{
 "cells": [
  {
   "cell_type": "markdown",
   "metadata": {},
   "source": [
    "# Classic Algorithms"
   ]
  },
  {
   "cell_type": "markdown",
   "metadata": {},
   "source": [
    "## Tasks Today:\n",
    " \n",
    "1) <b>In-Place Algorithms</b> <br>\n",
    " &nbsp;&nbsp;&nbsp;&nbsp; a) Syntax <br>\n",
    " &nbsp;&nbsp;&nbsp;&nbsp; a) Out of Place Algorithm <br>\n",
    " &nbsp;&nbsp;&nbsp;&nbsp; b) In-Class Exercise #1 <br>\n",
    "2) <b>Two Pointers</b> <br>\n",
    "3) <b>Sorting Algorithms</b> <br>\n",
    "4) <b>Merge Sort</b> <br>\n",
    " &nbsp;&nbsp;&nbsp;&nbsp; a) Video on Algorithms <br>\n",
    " &nbsp;&nbsp;&nbsp;&nbsp; b) How it Works <br>\n",
    "5) <b>Exercises</b> <br>\n",
    " &nbsp;&nbsp;&nbsp;&nbsp; a) Exercise #1 - Reverse a List in Place Using an In-Place Algorithm <br>\n",
    " &nbsp;&nbsp;&nbsp;&nbsp; b) Exercise #2 - Find Distinct Words <br>\n",
    " &nbsp;&nbsp;&nbsp;&nbsp; c) Exercise #3 - Write a program to implement a Linear Search Algorithm. <br>"
   ]
  },
  {
   "cell_type": "markdown",
   "metadata": {},
   "source": [
    "## In-Place Algorithms"
   ]
  },
  {
   "cell_type": "markdown",
   "metadata": {},
   "source": [
    "#### Syntax"
   ]
  },
  {
   "cell_type": "code",
   "execution_count": 16,
   "metadata": {},
   "outputs": [
    {
     "name": "stdout",
     "output_type": "stream",
     "text": [
      "Before swap: [20, 4, 5, 9, 10]\n",
      "After swap: [5, 4, 20, 9, 10]\n"
     ]
    }
   ],
   "source": [
    "#var[i], var[i+1] = var[i + 1], var[i]\n",
    "#Also known as swap algorithm\n",
    "\n",
    "def swap(alist, x, y, z): \n",
    "    alist[x], alist[y], alist[z] = alist[z], alist[y], alist[x]\n",
    "    return alist\n",
    "\n",
    "\n",
    "my_list = [20,4,5,9, 10]\n",
    "print(f'Before swap: {my_list}')\n",
    "swap(my_list,0,1,2)\n",
    "print(f'After swap: {my_list}')\n",
    "\n"
   ]
  },
  {
   "cell_type": "markdown",
   "metadata": {},
   "source": [
    "#### Out of Place Algorithm"
   ]
  },
  {
   "cell_type": "code",
   "execution_count": 18,
   "metadata": {},
   "outputs": [
    {
     "name": "stdout",
     "output_type": "stream",
     "text": [
      "[10, 9, 20, 4, 5]\n",
      "[10, 9, 20, 4, 5]\n",
      "BEFORE SWAP: ['a', 'b', 'c', 'd']\n",
      "AFTER out of place Swap: ['d', 'c', 'b', 'a']\n"
     ]
    }
   ],
   "source": [
    "# NOT swapping IN-PLACE, rather reversing a copy of the list\n",
    "\n",
    "my_list_copy = my_list[::-1]\n",
    "print(my_list_copy)\n",
    "\n",
    "\n",
    "\n",
    "# LONG FORM out of place...\n",
    "list_a = ['a','b','c','d']\n",
    "new_list = ['a']* len(list_a)\n",
    "\n",
    "print(f'BEFORE SWAP: {list_a}')\n",
    "\n",
    "length = len(list_a) - 1 \n",
    "\n",
    "for i in range(length): \n",
    "    new_list[i] = list_a[length - i]\n",
    "    \n",
    "list_a = new_list\n",
    "print(f'AFTER out of place Swap: {list_a}')"
   ]
  },
  {
   "cell_type": "markdown",
   "metadata": {},
   "source": [
    "#### In-Class Exercise #1 <br>\n",
    "<p>Write a function that takes in four arguments (list, index1, index2, index3), and swaps those three positions in the list passed in.</p>"
   ]
  },
  {
   "cell_type": "code",
   "execution_count": 28,
   "metadata": {},
   "outputs": [
    {
     "name": "stdout",
     "output_type": "stream",
     "text": [
      "[10, 4, 3, 8, 4, 2, 6]\n",
      "[4, 10, 3, 8, 4, 2, 6]\n",
      "[4, 8, 3, 10, 4, 2, 6]\n"
     ]
    }
   ],
   "source": [
    "num_list = [10, 4, 3, 8, 4, 2, 6]\n",
    "\n",
    "def swap_b(xlist, a, b, c): \n",
    "    xlist[a], xlist[b], xlist[c] = xlist[c], xlist[b], xlist[a]\n",
    "    return xlist\n",
    "\n",
    "print(num_list)\n",
    "\n",
    "swap(num_list, 0,3,1)\n",
    "print(num_list)\n",
    "\n",
    "def switch(lists,x,y,z):\n",
    "    lists[x],lists[y],lists[z] = lists[z],lists[x],lists[y]\n",
    "    return lists\n",
    "\n",
    "#solution 2\n",
    "def switch(lists,a,b,c,d,e):\n",
    "    lists[a],lists[b],lists[c], lists[d],lists[e] = lists[e],lists[d],lists[c],lists[b],lists[a]\n",
    "    return lists\n",
    "\n",
    "print(switch(num_list,0,1,2,3,4))\n"
   ]
  },
  {
   "cell_type": "markdown",
   "metadata": {},
   "source": [
    "## Two Pointers"
   ]
  },
  {
   "cell_type": "markdown",
   "metadata": {},
   "source": [
    "#### Syntax"
   ]
  },
  {
   "cell_type": "code",
   "execution_count": 29,
   "metadata": {},
   "outputs": [
    {
     "name": "stdout",
     "output_type": "stream",
     "text": [
      "BEFORE Swap: [1, 2, 3, 12, 9, 8, 11, 22]\n",
      "AFTER Swap: [22, 11, 8, 9, 12, 3, 2, 1]\n"
     ]
    }
   ],
   "source": [
    "# using two pointers to swap info, can use a while loop for most cases\n",
    "\n",
    "def twoPointers(alist): \n",
    "    # Creating pointers for list below\n",
    "    left = 0 # first position in list\n",
    "    right = len(alist) - 1 # Last position in list\n",
    "    while left <= right: \n",
    "        alist[left], alist[right] = alist[right], alist[left]\n",
    "        left += 1 # increase left pointer by 1\n",
    "        right -= 1 # decrease right pointer by 1\n",
    "    return alist\n",
    "\n",
    "my_list2 = [1,2,3,12,9,8,11,22]\n",
    "\n",
    "print(f'BEFORE Swap: {my_list2}')\n",
    "\n",
    "twoPointers(my_list2)\n",
    "\n",
    "print(f'AFTER Swap: {my_list2}')"
   ]
  },
  {
   "cell_type": "markdown",
   "metadata": {},
   "source": [
    "#### Video of Algorithms <br>\n",
    "<p>Watch the video about algorithms.</p>\n",
    "\n",
    "https://www.youtube.com/watch?v=Q9HjeFD62Uk\n",
    "\n",
    "https://www.youtube.com/watch?v=kPRA0W1kECg\n",
    "\n",
    "https://www.youtube.com/watch?v=ZZuD6iUe3Pc"
   ]
  },
  {
   "cell_type": "markdown",
   "metadata": {},
   "source": [
    "# Sorting Algorithms"
   ]
  },
  {
   "cell_type": "code",
   "execution_count": null,
   "metadata": {},
   "outputs": [],
   "source": []
  },
  {
   "cell_type": "markdown",
   "metadata": {},
   "source": [
    "#### Bubble Sort\n",
    "\n",
    "Worst Case: O(n^2) Time - O(1) Space"
   ]
  },
  {
   "cell_type": "code",
   "execution_count": 33,
   "metadata": {},
   "outputs": [
    {
     "name": "stdout",
     "output_type": "stream",
     "text": [
      "[1, 22, 34, 44, 55, 66, 88, 100]\n",
      "8\n"
     ]
    }
   ],
   "source": [
    "# Best Case: O(n) - Linear\n",
    "\n",
    "def swap(i, j, alist): \n",
    "    alist[i], alist[j] = alist[j], alist[i]\n",
    "\n",
    "def bubbleSort(alist): \n",
    "    isSorted = False #Erroring on the side that this could already be sorted\n",
    "    while not isSorted: \n",
    "        isSorted = True\n",
    "        for num in range(len(alist) - 1): \n",
    "            if alist[num] > alist[num + 1]: \n",
    "                swap(num, num + 1, alist)\n",
    "                isSorted = False\n",
    "    return alist\n",
    "\n",
    "sorted_list = bubbleSort([22,55,88,44,1,100,34,66])\n",
    "print(sorted_list)\n",
    "\n",
    "blist = [22,55,88,44,1,100,34,66]\n",
    "\n",
    "print(len(blist))\n",
    "    \n",
    "    "
   ]
  },
  {
   "cell_type": "markdown",
   "metadata": {},
   "source": [
    "##### Insertion Sort\n",
    "\n",
    "Worst Case: O(n^2) time - O(1)space"
   ]
  },
  {
   "cell_type": "code",
   "execution_count": 36,
   "metadata": {},
   "outputs": [
    {
     "data": {
      "text/plain": [
       "[1, 22, 44, 55, 66, 88, 100]"
      ]
     },
     "execution_count": 36,
     "metadata": {},
     "output_type": "execute_result"
    }
   ],
   "source": [
    "def swap(i, j, alist): \n",
    "    alist[i], alist[j] = alist[j], alist[i]\n",
    "    return alist\n",
    "    \n",
    "def insertionSort(alist): \n",
    "    for i in range(1, len(alist)): \n",
    "        j = i #setting the value of j into i so that we can keep track of it. it will let us to move j and not move i. \n",
    "        while j > 0 and alist[j] < alist[j - 1]: \n",
    "            swap(j, j - 1, alist)\n",
    "            j -= 1\n",
    "    return alist\n",
    "\n",
    "clist = [22,55,88,44,1,100,66]\n",
    "insertionSort(clist)"
   ]
  },
  {
   "cell_type": "markdown",
   "metadata": {},
   "source": [
    "## Merge Sort"
   ]
  },
  {
   "cell_type": "markdown",
   "metadata": {},
   "source": [
    "#### How it Works"
   ]
  },
  {
   "cell_type": "code",
   "execution_count": 46,
   "metadata": {
    "scrolled": true
   },
   "outputs": [
    {
     "name": "stdout",
     "output_type": "stream",
     "text": [
      "Splitting ...[16, 12, 1, 19, 3]\n",
      "Splitting ...[16, 12]\n",
      "Splitting ...[16]\n",
      "Merging: [16]\n",
      "Splitting ...[12]\n",
      "Merging: [12]\n",
      "Merging: [12, 16]\n",
      "Splitting ...[1, 19, 3]\n",
      "Splitting ...[1]\n",
      "Merging: [1]\n",
      "Splitting ...[19, 3]\n",
      "Splitting ...[19]\n",
      "Merging: [19]\n",
      "Splitting ...[3]\n",
      "Merging: [3]\n",
      "Merging: [3, 19]\n",
      "Merging: [1, 3, 19]\n",
      "Merging: [1, 3, 12, 16, 19]\n"
     ]
    },
    {
     "data": {
      "text/plain": [
       "[1, 3, 12, 16, 19]"
      ]
     },
     "execution_count": 46,
     "metadata": {},
     "output_type": "execute_result"
    }
   ],
   "source": [
    "# Step 1: select the entire list -- then split the list into groups\n",
    "# Step 2: From left to right merge the two groups together \n",
    "# Step 3: While merging, place each item in the correct position within the merged groups \n",
    "# STep 4: Continue steps 3-4 until one single group is left \n",
    "\n",
    "from random import randint\n",
    "\n",
    "nums = [randint(0,20) for i in range(5)]\n",
    "dlist = [22,55,88,44,1,100,66]\n",
    "\n",
    "def mergeSort(alist): \n",
    "    print(f'Splitting ...{alist}')\n",
    "    \n",
    "    if len(alist) > 1: \n",
    "        midpoint = len(alist) // 2 # using // will give us an integer w/out decimals. \n",
    "        lefthalf = alist[:midpoint]\n",
    "        righthalf = alist[midpoint:]\n",
    "        \n",
    "        # recursively call mergeSort to perform splits and merges as needed\n",
    "        mergeSort(lefthalf)\n",
    "        mergeSort(righthalf)\n",
    "        \n",
    "        # set index pointers for our list\n",
    "        # Pointers give us the ability to track value or anticipate what we'll see in a few\n",
    "        i = 0 # point for the left half \n",
    "        j = 0 # pointer for the right half\n",
    "        k = 0 # pointer for the array/list\n",
    "        \n",
    "        # Step 2: Compare the Lefthalf and righthalf \n",
    "        while i < len(lefthalf) and j < len(righthalf): \n",
    "            if lefthalf[i] < righthalf[j]: \n",
    "                alist[k] = lefthalf[i] \n",
    "                i = i + 1\n",
    "            else: \n",
    "                alist[k] = righthalf[j]\n",
    "                j = j + 1\n",
    "            k = k + 1  #we have to go one over so that we can add it to the array\n",
    "            \n",
    "        while i < len(lefthalf): #While I is lessthan the length of the left half\n",
    "            alist[k] = lefthalf[i] #Every time you see K, its the main list\n",
    "            i = i + 1\n",
    "            k = k + 1\n",
    "        while j < len(righthalf): \n",
    "            alist[k] = righthalf[j]\n",
    "            j = j + 1\n",
    "            k = k + 1\n",
    "    print(f'Merging: {alist}')\n",
    "    return alist\n",
    "\n",
    "mergeSort(nums)"
   ]
  },
  {
   "cell_type": "markdown",
   "metadata": {},
   "source": [
    "# Binary Search\n",
    "\n",
    "The Binary Search algorithm works by finding the number in the middle of a given array and comparing it to the target. Given that the array is sorted\n",
    "\n",
    "* The worst case run time for this algorithm is `O(log(n))`"
   ]
  },
  {
   "cell_type": "code",
   "execution_count": 50,
   "metadata": {},
   "outputs": [
    {
     "data": {
      "text/plain": [
       "'The index is ...: 1'"
      ]
     },
     "execution_count": 50,
     "metadata": {},
     "output_type": "execute_result"
    }
   ],
   "source": [
    "# Less == left \n",
    "# greater = Right \n",
    "# list of numbers must be sorted\n",
    "\n",
    "def binarySearchHelperFunction(alist, target, left, right): \n",
    "    while left <= right: \n",
    "        middle = (left + right) // 2\n",
    "        potentialMatch = alist[middle]  #middle means midpoint of whatever value it happens to be \n",
    "        if target == potentialMatch: \n",
    "            return f'The index is ...: {middle}'\n",
    "        elif target < potentialMatch: \n",
    "            right = middle - 1 # we're gonna move from the middle left \n",
    "        else:\n",
    "            left = middle + 1 # Were gonna move from the middle right. Essentially, move up or down depending where the middle is\n",
    "    return -1\n",
    "\n",
    "def binarySearch(alist, target): \n",
    "    return binarySearchHelperFunction(alist, target, 0, len(alist) -1) #back it off by 1 so it doesnt fall out of place\n",
    "\n",
    "binarySearch([22,44,55,66,88,100], 44)\n",
    "            "
   ]
  },
  {
   "cell_type": "markdown",
   "metadata": {},
   "source": [
    "# Exercises"
   ]
  },
  {
   "cell_type": "markdown",
   "metadata": {},
   "source": [
    "### Exercise #1 <br>\n",
    "<p>Reverse the list below in-place using an in-place algorithm.<br>For extra credit: Reverse the strings at the same time.</p>"
   ]
  },
  {
   "cell_type": "code",
   "execution_count": 7,
   "metadata": {},
   "outputs": [
    {
     "name": "stdout",
     "output_type": "stream",
     "text": [
      "['this', 'is', 'a', 'sentence', '.']\n",
      "['.', 'sentence', 'a', 'is', 'this']\n",
      "['.', 'sentence', 'a', 'is', 'this']\n",
      "['.']\n",
      "['ecnetnes']\n",
      "['a']\n",
      "['si']\n",
      "['siht']\n"
     ]
    }
   ],
   "source": [
    "words = ['this' , 'is', 'a', 'sentence', '.']\n",
    "print(words)\n",
    "print(words[::-1])\n",
    "\n",
    "\n",
    "\n",
    "new_list = ['this']* len(words)\n",
    "length = len(words) - 1 \n",
    "for i in range(length): \n",
    "    new_list[i] = words[length - i]\n",
    "words = new_list\n",
    "print(words)\n",
    "\n",
    "\n",
    "for i in words: \n",
    "    print([i[::-1]])\n",
    "    \n",
    "# res = [i[::-1] for i in test_list] "
   ]
  },
  {
   "cell_type": "markdown",
   "metadata": {},
   "source": [
    "### Exercise #2 <br>\n",
    "<p>Create a function that counts how many distinct words are in the string below, then outputs a dictionary with the words as the key and the value as the amount of times that word appears in the string.<br>Should output:<br>{'a': 5,<br>\n",
    " 'abstract': 1,<br>\n",
    " 'an': 3,<br>\n",
    " 'array': 2, ... etc...</p>"
   ]
  },
  {
   "cell_type": "code",
   "execution_count": 107,
   "metadata": {},
   "outputs": [
    {
     "name": "stdout",
     "output_type": "stream",
     "text": [
      "Counter({'a': 4, 'hash': 4, 'an': 3, 'table': 2, 'map': 2, 'data': 2, 'structure': 2, 'which': 2, 'array': 2, 'can': 2, 'to': 2, 'In': 1, 'computing,': 1, 'is': 1, 'implements': 1, 'associative': 1, 'abstract': 1, 'type,': 1, 'that': 1, 'keys': 1, 'values.': 1, 'A': 1, 'uses': 1, 'function': 1, 'compute': 1, 'index': 1, 'into': 1, 'of': 1, 'buckets': 1, 'or': 1, 'slots': 1, 'from': 1, 'the': 1, 'desired': 1, 'value': 1, 'be': 1, 'found': 1})\n"
     ]
    }
   ],
   "source": [
    "a_text = 'In computing, a hash table hash map is a data structure which implements an associative array abstract data type, a structure that can map keys to values. A hash table uses a hash function to compute an index into an array of buckets or slots from which the desired value can be found'\n",
    "\n",
    "from collections import Counter\n",
    "\n",
    "def word_count(alist): \n",
    "    blist = alist.split()\n",
    "    words_counted = Counter(blist)\n",
    "    print(words_counted)\n",
    "\n",
    "\n",
    "word_count(a_text)\n",
    "\n",
    "\n",
    "\n",
    " \n"
   ]
  },
  {
   "cell_type": "markdown",
   "metadata": {},
   "source": [
    "## Exercise #3\n",
    "\n",
    "Write a program to implement a Linear Search Algorithm. Also in a comment, write the Time Complexity of the following algorithm.\n",
    "\n",
    "#### Hint: Linear Searching will require searching a list for a given number. "
   ]
  },
  {
   "cell_type": "code",
   "execution_count": 51,
   "metadata": {},
   "outputs": [
    {
     "data": {
      "text/plain": [
       "4"
      ]
     },
     "execution_count": 51,
     "metadata": {},
     "output_type": "execute_result"
    }
   ],
   "source": [
    "def searchLinear(alist, target): \n",
    "  \n",
    "    for i in range(len(alist)): \n",
    "  \n",
    "        if alist[i] == target: \n",
    "            return i \n",
    "  \n",
    "    return -1\n",
    "\n",
    "dlist = [22,55,88,44,1,100,66]\n",
    "\n",
    "searchLinear(dlist, 1)\n",
    "\n",
    "#The time complexity of above algorithm is O(n)"
   ]
  }
 ],
 "metadata": {
  "kernelspec": {
   "display_name": "Python 3",
   "language": "python",
   "name": "python3"
  },
  "language_info": {
   "codemirror_mode": {
    "name": "ipython",
    "version": 3
   },
   "file_extension": ".py",
   "mimetype": "text/x-python",
   "name": "python",
   "nbconvert_exporter": "python",
   "pygments_lexer": "ipython3",
   "version": "3.8.3"
  }
 },
 "nbformat": 4,
 "nbformat_minor": 2
}
